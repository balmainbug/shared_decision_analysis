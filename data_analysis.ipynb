{
 "cells": [
  {
   "cell_type": "code",
   "execution_count": 62,
   "outputs": [
    {
     "data": {
      "text/plain": "Index([1.0, 2.0, 3.0, 5.0, 'response'], dtype='object')"
     },
     "metadata": {},
     "output_type": "execute_result",
     "execution_count": 62
    }
   ],
   "source": [
    "import pandas as pd\n",
    "df1 = pd.read_csv('joshua_shared_decision_data/SharedDecision_DATA_2020-03-05_0700.csv')\n",
    "df2 = pd.read_csv('joshua_shared_decision_data/SharedDecisionmaking_DATA_2019-08-22_0941.csv')\n",
    "pd.to_numeric(df1['record_id'])\n",
    "pd.to_numeric(df2['record_id'])\n",
    "\n",
    "df1['record_id']= df1['record_id'] + 1000\n",
    "\n",
    "df3 = pd.concat([df1,df2])\n",
    "df4 = df3[['video1_reaction', 'video_2reaction', 'video3_reaction', 'video4_reaction', 'overall_reaction1']]\n",
    "\n",
    "value_counts = df4.apply(pd.Series.value_counts)\n",
    "value_counts.rename(columns={ 'overall_reaction1': 'Overall satisfaction with videos','video1_reaction': 'Satisfaction -Video1',\n",
    "                     'video_2reaction': 'Satisfaction -Video2', 'video3_reaction': 'Satisfaction -Video3',\n",
    "                     'video4_reaction': 'Satisfaction -Video4'} , inplace=True)\n",
    "vals = pd.DataFrame.transpose(value_counts)\n",
    "vals['response'] = vals.index\n",
    "vals.head()\n",
    "vals.keys()"
   ],
   "metadata": {
    "collapsed": false,
    "pycharm": {
     "name": "#%% Working on shared decion making AF module data\n",
     "is_executing": false
    }
   }
  },
  {
   "cell_type": "code",
   "execution_count": 63,
   "outputs": [],
   "source": [
    "import plotly.graph_objects as go\n",
    "\n",
    "\n",
    "fig = go.Figure(data=[\n",
    "    go.Bar(name='Very Satisfied', x=vals['response'].values, y=vals[1.0]),\n",
    "    go.Bar(name='Slightly Satisfied', x=vals['response'].values, y=vals[2.0]),\n",
    "    go.Bar(name='Neutral', x=vals['response'].values, y=vals[3.0]),\n",
    "    go.Bar(name='Very Unsatisfied', x=vals['response'].values, y=vals[5.0])\n",
    "])\n",
    "fig.update_layout(barmode='stack')\n",
    "fig.write_html('ml.html', auto_open=True)\n"
   ],
   "metadata": {
    "collapsed": false,
    "pycharm": {
     "name": "#%%\n",
     "is_executing": false
    }
   }
  },
  {
   "cell_type": "code",
   "execution_count": null,
   "outputs": [],
   "source": [
    "print(len(df1), ' ',len(df2), ' ',len(df3))\n",
    "df3.rename(columns={ 'overall_reaction3': 'Allay concerns', 'overall_reaction4':   'Decisionmaking ability during consult',\n",
    "                    'overall_reaction5': 'Chances of following treatment', 'overall_reaction6': 'Importance of individual Dr recording video',\n",
    "                    'overall_reaction1': 'Overall satisfaction with videos','video1_reaction': 'Satisfaction -Video1',\n",
    "                     'video_2reaction': 'Satisfaction -Video2', 'video3_reaction': 'Satisfaction -Video3',\n",
    "                     'video4_reaction': 'Satisfaction -Video4'} , inplace=True)\n",
    "\n",
    "\n",
    "\n",
    "vas_data = pd.melt(df3,id_vars='record_id', value_vars=['Decisionmaking ability during consult', 'Allay concerns', \n",
    "                                                       'Chances of following treatment', 'Importance of individual Dr recording video'])\n",
    "\n",
    "vas_data.rename(columns={'value':'Visual analogue scale',  'variable':'Effect of video module on:'}, inplace=True)\n",
    "\n",
    "vas_data.head()\n"
   ],
   "metadata": {
    "collapsed": false,
    "pycharm": {
     "name": "#%%bar_data=pd.melt(df4, id_vars=)\n"
    }
   }
  },
  {
   "cell_type": "code",
   "execution_count": 5,
   "outputs": [],
   "source": [
    "import plotly.express as px\n",
    "# Use directly Columns as argument. You can use tab completion for this!\n",
    "fig = px.violin(vas_data,y='Visual analogue scale', points='all', x='Effect of video module on:', box=True, )\n",
    "\n",
    "\n",
    "fig.update_layout(\n",
    "    title=\"Shared decision making visual analogue scale\",\n",
    "\n",
    "    font=dict(\n",
    "        family=\"Courier New, monospace\",\n",
    "        size=14,\n",
    "        color=\"#7f7f7f\")6\n",
    "    )\n",
    "\n",
    "fig.write_html('shared decionmaking VAS violin.html', auto_open=True)"
   ],
   "metadata": {
    "collapsed": false,
    "pycharm": {
     "name": "#%%\n",
     "is_executing": false
    }
   }
  },
  {
   "cell_type": "code",
   "execution_count": 19,
   "outputs": [
    {
     "traceback": [
      "\u001b[0;31m---------------------------------------------------------------------------\u001b[0m",
      "\u001b[0;31mKeyError\u001b[0m                                  Traceback (most recent call last)",
      "\u001b[0;32m<ipython-input-19-3e406d4e4b9f>\u001b[0m in \u001b[0;36m<module>\u001b[0;34m\u001b[0m\n\u001b[1;32m      2\u001b[0m df4 = df3.loc[:,['Overall satisfaction with videos','Satisfaction -Video1',\n\u001b[1;32m      3\u001b[0m                      \u001b[0;34m'Satisfaction -Video2'\u001b[0m\u001b[0;34m,\u001b[0m \u001b[0;34m'Satisfaction -Video3'\u001b[0m\u001b[0;34m,\u001b[0m\u001b[0;34m\u001b[0m\u001b[0;34m\u001b[0m\u001b[0m\n\u001b[0;32m----> 4\u001b[0;31m                       'Satisfaction -Video4']]\n\u001b[0m\u001b[1;32m      5\u001b[0m \u001b[0;34m\u001b[0m\u001b[0m\n\u001b[1;32m      6\u001b[0m \u001b[0;34m\u001b[0m\u001b[0m\n",
      "\u001b[0;32m~/PycharmProjects/data_analysis/venv/lib/python3.7/site-packages/pandas/core/indexing.py\u001b[0m in \u001b[0;36m__getitem__\u001b[0;34m(self, key)\u001b[0m\n\u001b[1;32m   1759\u001b[0m                 \u001b[0;32mexcept\u001b[0m \u001b[0;34m(\u001b[0m\u001b[0mKeyError\u001b[0m\u001b[0;34m,\u001b[0m \u001b[0mIndexError\u001b[0m\u001b[0;34m,\u001b[0m \u001b[0mAttributeError\u001b[0m\u001b[0;34m)\u001b[0m\u001b[0;34m:\u001b[0m\u001b[0;34m\u001b[0m\u001b[0;34m\u001b[0m\u001b[0m\n\u001b[1;32m   1760\u001b[0m                     \u001b[0;32mpass\u001b[0m\u001b[0;34m\u001b[0m\u001b[0;34m\u001b[0m\u001b[0m\n\u001b[0;32m-> 1761\u001b[0;31m             \u001b[0;32mreturn\u001b[0m \u001b[0mself\u001b[0m\u001b[0;34m.\u001b[0m\u001b[0m_getitem_tuple\u001b[0m\u001b[0;34m(\u001b[0m\u001b[0mkey\u001b[0m\u001b[0;34m)\u001b[0m\u001b[0;34m\u001b[0m\u001b[0;34m\u001b[0m\u001b[0m\n\u001b[0m\u001b[1;32m   1762\u001b[0m         \u001b[0;32melse\u001b[0m\u001b[0;34m:\u001b[0m\u001b[0;34m\u001b[0m\u001b[0;34m\u001b[0m\u001b[0m\n\u001b[1;32m   1763\u001b[0m             \u001b[0;31m# we by definition only have the 0th axis\u001b[0m\u001b[0;34m\u001b[0m\u001b[0;34m\u001b[0m\u001b[0;34m\u001b[0m\u001b[0m\n",
      "\u001b[0;32m~/PycharmProjects/data_analysis/venv/lib/python3.7/site-packages/pandas/core/indexing.py\u001b[0m in \u001b[0;36m_getitem_tuple\u001b[0;34m(self, tup)\u001b[0m\n\u001b[1;32m   1286\u001b[0m                 \u001b[0;32mcontinue\u001b[0m\u001b[0;34m\u001b[0m\u001b[0;34m\u001b[0m\u001b[0m\n\u001b[1;32m   1287\u001b[0m \u001b[0;34m\u001b[0m\u001b[0m\n\u001b[0;32m-> 1288\u001b[0;31m             \u001b[0mretval\u001b[0m \u001b[0;34m=\u001b[0m \u001b[0mgetattr\u001b[0m\u001b[0;34m(\u001b[0m\u001b[0mretval\u001b[0m\u001b[0;34m,\u001b[0m \u001b[0mself\u001b[0m\u001b[0;34m.\u001b[0m\u001b[0mname\u001b[0m\u001b[0;34m)\u001b[0m\u001b[0;34m.\u001b[0m\u001b[0m_getitem_axis\u001b[0m\u001b[0;34m(\u001b[0m\u001b[0mkey\u001b[0m\u001b[0;34m,\u001b[0m \u001b[0maxis\u001b[0m\u001b[0;34m=\u001b[0m\u001b[0mi\u001b[0m\u001b[0;34m)\u001b[0m\u001b[0;34m\u001b[0m\u001b[0;34m\u001b[0m\u001b[0m\n\u001b[0m\u001b[1;32m   1289\u001b[0m \u001b[0;34m\u001b[0m\u001b[0m\n\u001b[1;32m   1290\u001b[0m         \u001b[0;32mreturn\u001b[0m \u001b[0mretval\u001b[0m\u001b[0;34m\u001b[0m\u001b[0;34m\u001b[0m\u001b[0m\n",
      "\u001b[0;32m~/PycharmProjects/data_analysis/venv/lib/python3.7/site-packages/pandas/core/indexing.py\u001b[0m in \u001b[0;36m_getitem_axis\u001b[0;34m(self, key, axis)\u001b[0m\n\u001b[1;32m   1951\u001b[0m                     \u001b[0;32mraise\u001b[0m \u001b[0mValueError\u001b[0m\u001b[0;34m(\u001b[0m\u001b[0;34m\"Cannot index with multidimensional key\"\u001b[0m\u001b[0;34m)\u001b[0m\u001b[0;34m\u001b[0m\u001b[0;34m\u001b[0m\u001b[0m\n\u001b[1;32m   1952\u001b[0m \u001b[0;34m\u001b[0m\u001b[0m\n\u001b[0;32m-> 1953\u001b[0;31m                 \u001b[0;32mreturn\u001b[0m \u001b[0mself\u001b[0m\u001b[0;34m.\u001b[0m\u001b[0m_getitem_iterable\u001b[0m\u001b[0;34m(\u001b[0m\u001b[0mkey\u001b[0m\u001b[0;34m,\u001b[0m \u001b[0maxis\u001b[0m\u001b[0;34m=\u001b[0m\u001b[0maxis\u001b[0m\u001b[0;34m)\u001b[0m\u001b[0;34m\u001b[0m\u001b[0;34m\u001b[0m\u001b[0m\n\u001b[0m\u001b[1;32m   1954\u001b[0m \u001b[0;34m\u001b[0m\u001b[0m\n\u001b[1;32m   1955\u001b[0m             \u001b[0;31m# nested tuple slicing\u001b[0m\u001b[0;34m\u001b[0m\u001b[0;34m\u001b[0m\u001b[0;34m\u001b[0m\u001b[0m\n",
      "\u001b[0;32m~/PycharmProjects/data_analysis/venv/lib/python3.7/site-packages/pandas/core/indexing.py\u001b[0m in \u001b[0;36m_getitem_iterable\u001b[0;34m(self, key, axis)\u001b[0m\n\u001b[1;32m   1592\u001b[0m         \u001b[0;32melse\u001b[0m\u001b[0;34m:\u001b[0m\u001b[0;34m\u001b[0m\u001b[0;34m\u001b[0m\u001b[0m\n\u001b[1;32m   1593\u001b[0m             \u001b[0;31m# A collection of keys\u001b[0m\u001b[0;34m\u001b[0m\u001b[0;34m\u001b[0m\u001b[0;34m\u001b[0m\u001b[0m\n\u001b[0;32m-> 1594\u001b[0;31m             \u001b[0mkeyarr\u001b[0m\u001b[0;34m,\u001b[0m \u001b[0mindexer\u001b[0m \u001b[0;34m=\u001b[0m \u001b[0mself\u001b[0m\u001b[0;34m.\u001b[0m\u001b[0m_get_listlike_indexer\u001b[0m\u001b[0;34m(\u001b[0m\u001b[0mkey\u001b[0m\u001b[0;34m,\u001b[0m \u001b[0maxis\u001b[0m\u001b[0;34m,\u001b[0m \u001b[0mraise_missing\u001b[0m\u001b[0;34m=\u001b[0m\u001b[0;32mFalse\u001b[0m\u001b[0;34m)\u001b[0m\u001b[0;34m\u001b[0m\u001b[0;34m\u001b[0m\u001b[0m\n\u001b[0m\u001b[1;32m   1595\u001b[0m             return self.obj._reindex_with_indexers(\n\u001b[1;32m   1596\u001b[0m                 \u001b[0;34m{\u001b[0m\u001b[0maxis\u001b[0m\u001b[0;34m:\u001b[0m \u001b[0;34m[\u001b[0m\u001b[0mkeyarr\u001b[0m\u001b[0;34m,\u001b[0m \u001b[0mindexer\u001b[0m\u001b[0;34m]\u001b[0m\u001b[0;34m}\u001b[0m\u001b[0;34m,\u001b[0m \u001b[0mcopy\u001b[0m\u001b[0;34m=\u001b[0m\u001b[0;32mTrue\u001b[0m\u001b[0;34m,\u001b[0m \u001b[0mallow_dups\u001b[0m\u001b[0;34m=\u001b[0m\u001b[0;32mTrue\u001b[0m\u001b[0;34m\u001b[0m\u001b[0;34m\u001b[0m\u001b[0m\n",
      "\u001b[0;32m~/PycharmProjects/data_analysis/venv/lib/python3.7/site-packages/pandas/core/indexing.py\u001b[0m in \u001b[0;36m_get_listlike_indexer\u001b[0;34m(self, key, axis, raise_missing)\u001b[0m\n\u001b[1;32m   1550\u001b[0m \u001b[0;34m\u001b[0m\u001b[0m\n\u001b[1;32m   1551\u001b[0m         self._validate_read_indexer(\n\u001b[0;32m-> 1552\u001b[0;31m             \u001b[0mkeyarr\u001b[0m\u001b[0;34m,\u001b[0m \u001b[0mindexer\u001b[0m\u001b[0;34m,\u001b[0m \u001b[0mo\u001b[0m\u001b[0;34m.\u001b[0m\u001b[0m_get_axis_number\u001b[0m\u001b[0;34m(\u001b[0m\u001b[0maxis\u001b[0m\u001b[0;34m)\u001b[0m\u001b[0;34m,\u001b[0m \u001b[0mraise_missing\u001b[0m\u001b[0;34m=\u001b[0m\u001b[0mraise_missing\u001b[0m\u001b[0;34m\u001b[0m\u001b[0;34m\u001b[0m\u001b[0m\n\u001b[0m\u001b[1;32m   1553\u001b[0m         )\n\u001b[1;32m   1554\u001b[0m         \u001b[0;32mreturn\u001b[0m \u001b[0mkeyarr\u001b[0m\u001b[0;34m,\u001b[0m \u001b[0mindexer\u001b[0m\u001b[0;34m\u001b[0m\u001b[0;34m\u001b[0m\u001b[0m\n",
      "\u001b[0;32m~/PycharmProjects/data_analysis/venv/lib/python3.7/site-packages/pandas/core/indexing.py\u001b[0m in \u001b[0;36m_validate_read_indexer\u001b[0;34m(self, key, indexer, axis, raise_missing)\u001b[0m\n\u001b[1;32m   1652\u001b[0m             \u001b[0;32mif\u001b[0m \u001b[0;32mnot\u001b[0m \u001b[0;34m(\u001b[0m\u001b[0max\u001b[0m\u001b[0;34m.\u001b[0m\u001b[0mis_categorical\u001b[0m\u001b[0;34m(\u001b[0m\u001b[0;34m)\u001b[0m \u001b[0;32mor\u001b[0m \u001b[0max\u001b[0m\u001b[0;34m.\u001b[0m\u001b[0mis_interval\u001b[0m\u001b[0;34m(\u001b[0m\u001b[0;34m)\u001b[0m\u001b[0;34m)\u001b[0m\u001b[0;34m:\u001b[0m\u001b[0;34m\u001b[0m\u001b[0;34m\u001b[0m\u001b[0m\n\u001b[1;32m   1653\u001b[0m                 raise KeyError(\n\u001b[0;32m-> 1654\u001b[0;31m                     \u001b[0;34m\"Passing list-likes to .loc or [] with any missing labels \"\u001b[0m\u001b[0;34m\u001b[0m\u001b[0;34m\u001b[0m\u001b[0m\n\u001b[0m\u001b[1;32m   1655\u001b[0m                     \u001b[0;34m\"is no longer supported, see \"\u001b[0m\u001b[0;34m\u001b[0m\u001b[0;34m\u001b[0m\u001b[0m\n\u001b[1;32m   1656\u001b[0m                     \u001b[0;34m\"https://pandas.pydata.org/pandas-docs/stable/user_guide/indexing.html#deprecate-loc-reindex-listlike\"\u001b[0m  \u001b[0;31m# noqa:E501\u001b[0m\u001b[0;34m\u001b[0m\u001b[0;34m\u001b[0m\u001b[0m\n",
      "\u001b[0;31mKeyError\u001b[0m: 'Passing list-likes to .loc or [] with any missing labels is no longer supported, see https://pandas.pydata.org/pandas-docs/stable/user_guide/indexing.html#deprecate-loc-reindex-listlike'"
     ],
     "ename": "KeyError",
     "evalue": "'Passing list-likes to .loc or [] with any missing labels is no longer supported, see https://pandas.pydata.org/pandas-docs/stable/user_guide/indexing.html#deprecate-loc-reindex-listlike'",
     "output_type": "error"
    }
   ],
   "source": [
    "#Need to formulate a table with just the satisfactory variables\n",
    "df4 = df3.loc[:,['Overall satisfaction with videos','Satisfaction -Video1',\n",
    "                     'Satisfaction -Video2', 'Satisfaction -Video3',\n",
    "                      'Satisfaction -Video4']]\n"
   ],
   "metadata": {
    "collapsed": false,
    "pycharm": {
     "name": "#%%\n",
     "is_executing": false
    }
   }
  },
  {
   "cell_type": "code",
   "execution_count": 9,
   "outputs": [],
   "source": [
    "import plotly.graph_objects as go\n",
    "\n",
    "fig = go.Figure(data=[\n",
    "    go.Bar(name='Satisfaction -Video1',y=df3['Satisfaction -Video1'].value_counts()) \n",
    "])\n",
    "fig.update_layout(barmode='stack')\n",
    "fig.write_html('stacked bar.html', auto_open=True)\n",
    "\n"
   ],
   "metadata": {
    "collapsed": false,
    "pycharm": {
     "name": "#%%\n",
     "is_executing": false
    }
   }
  },
  {
   "cell_type": "code",
   "execution_count": null,
   "outputs": [],
   "source": [
    "import dash\n",
    "import dash_core_components as dcc\n",
    "import dash_html_components as html\n",
    "\n",
    "app = dash.Dash()\n",
    "app.layout = html.Div([\n",
    "    dcc.Graph(figure=fig)\n",
    "])\n",
    "\n",
    "app.run_server(debug=True, use_reloader=False)  # Turn off reloader if inside Jupyter"
   ],
   "metadata": {
    "collapsed": false,
    "pycharm": {
     "name": "#%%\n"
    }
   }
  },
  {
   "cell_type": "code",
   "execution_count": 35,
   "outputs": [],
   "source": [
    "import plotly.express as px\n",
    "# Use directly Columns as argument. You can use tab completion for this!\n",
    "fig = px.violin(df4,y='value', color='variable', box=True)\n",
    "fig.write_html('RACC_height_waist_sex.html', auto_open=True)\n"
   ],
   "metadata": {
    "collapsed": false,
    "pycharm": {
     "name": "#%%\n",
     "is_executing": false
    }
   }
  },
  {
   "cell_type": "code",
   "execution_count": 28,
   "outputs": [],
   "source": [
    "import plotly.express as px\n",
    "# Use directly Columns as argument. You can use tab completion for this!\n",
    "fig = px.violin(df3,y='overall_reaction2')\n",
    "fig.write_html('RACC_height_waist_sex.html', auto_open=True)\n",
    "\n"
   ],
   "metadata": {
    "collapsed": false,
    "pycharm": {
     "name": "#%%\n",
     "is_executing": false
    }
   }
  },
  {
   "cell_type": "code",
   "execution_count": null,
   "outputs": [],
   "source": [
    "import phonenumbers\n",
    "from phonenumbers import timezone\n",
    "\n",
    "oz_nbr = phonenumbers.parse('+61403019234', None)\n",
    "print(oz_nbr)\n",
    "print(timezone.time_zones_for_number(oz_nbr))\n",
    "\n",
    "us= phonenumbers.parse('‭+16103292964‬', None)\n",
    "print(timezone.time_zones_for_number(us))\n"
   ],
   "metadata": {
    "collapsed": false,
    "pycharm": {
     "name": "#%%\n"
    }
   }
  },
  {
   "cell_type": "code",
   "execution_count": 1,
   "outputs": [],
   "source": [
    "from redcap import Project, RedcapError\n",
    "import configparser\n",
    "\n",
    "\n",
    "\n",
    "\n",
    "config = configparser.ConfigParser()\n",
    "config.read('/Users/aravindathiagalingam/Library/Mobile Documents/com~apple~CloudDocs/Documents/My Documents/PycharmProjects/redcap_format/redcap_project_configs.ini')\n",
    "rc_keys = dict(config['wm_racc_new'])\n",
    "rc_stats_keys = dict(config['wm_racc_stats'])\n",
    "\n",
    "# Get list of variables to download\n",
    "variables = 'sex, age, referral_date, clinic_date, indication, indigenous_status, ç, diabetes_type, ' \\\n",
    "            'diabetes_treatment, hypertension, hypertension_treatment, hyperlipidaemia, hyperlipidaemia_treatment, ' \\\n",
    "            'known_ihd, ihd_events, ihd_details, ihd_fx, ihd_fhx_prem, crf, dialysis, smoking, pack_years,' \\\n",
    "            ' comorbidities, lvef_cat, exercise_time, etoh, etoh_days, etoh_drinks, bp_sys, bp_dias, heart_rate, ' \\\n",
    "            'weight, height, bmi, waist, ecg_rhythm, ecg_ischaemia, ecg_comment, cvdrisk_10yr, hrs_e, hrs_t, hrs_total,' \\\n",
    "            ' type_ix_initial, patient_outcome, final_dx_cp, final_dx_asx, reg_meds, aspirin, antiplatelet, ' \\\n",
    "            'beta_blocker, ace, arb, statin, statin_changes, statin_dose_freq, statin_tdd, other_chol, type_other_chol,' \\\n",
    "            ' ccb, loop, thiazide, aldosterone, anticoag, type_anticoag, nitrates, gtn, anti_anginal, type_antianginal,' \\\n",
    "            ' other_antihyper, type_other_antihyper, type_arrhythmics, oral_hypo, insulin, hypo_med1, creatinine, ' \\\n",
    "            'gfr, glu_rand, gluc_fast, hba1c,  total_chol, ldl, hdl, trig, followup_date, fu_ix, type_ix, est_time,' \\\n",
    "            ' est_hr, est_percent, est_maxsbp, est_stop, est_mets, est_result, est_report, ctca_date, ctca_cascore, ' \\\n",
    "            'ctca_result, stress_date, stress_time, stress_hr, stress_percent, stress_maxsbp, stress_stop, stress_mets,' \\\n",
    "            ' stress_result, mibi_scan, mibi_result, mibi_lvef_pre, abpm_date, awake_no, awake_sys_mean, ' \\\n",
    "            'awake_sys_percent, awake_dias_mean, awake_dias_percent, asleep_no, asleep_sys_mean, asleep_sys_percent, ' \\\n",
    "            'asleep_dias_mean, asleep_dias_percent, angio_date, angio_result, vessel_50stenosis, pci, angio_report, fu_final_dx_cp'\n",
    "\n",
    "variables_list = variables.split(',')\n"
   ],
   "metadata": {
    "collapsed": false,
    "pycharm": {
     "name": "#%%\n",
     "is_executing": false
    }
   }
  },
  {
   "cell_type": "code",
   "execution_count": null,
   "outputs": [],
   "source": [
    "from redcap import Project, RedcapError\n",
    "import configparser\n",
    "\n",
    "\n",
    "\n",
    "\n",
    "config = configparser.ConfigParser()\n",
    "config.read('/Users/aravindathiagalingam/Library/Mobile Documents/com~apple~CloudDocs/Documents/My Documents/PycharmProjects/redcap_format/redcap_project_configs.ini')\n",
    "rc_keys = dict(config['wm_racc_new'])\n",
    "rc_stats_keys = dict(config['wm_racc_stats'])\n",
    "\n",
    "# Get list of variables to download\n",
    "\n",
    "variables_list = variables.split(',')\n"
   ],
   "metadata": {
    "collapsed": false,
    "pycharm": {
     "name": "#%%\n"
    }
   }
  },
  {
   "cell_type": "code",
   "execution_count": null,
   "outputs": [],
   "source": [
    "rc_project = Project(rc_keys['url'], rc_keys['racc_token'])\n",
    "rc_data_index = rc_project.export_records(fields=variables_list, raw_or_label='label', event_name='unique', export_checkbox_labels=True)"
   ],
   "metadata": {
    "collapsed": false,
    "pycharm": {
     "name": "#%%\n"
    }
   }
  },
  {
   "cell_type": "code",
   "execution_count": 3,
   "outputs": [],
   "source": [
    "import pandas as pd\n",
    "rc = pd.DataFrame(rc_data_index)"
   ],
   "metadata": {
    "collapsed": false,
    "pycharm": {
     "name": "#%%\n",
     "is_executing": false
    }
   }
  },
  {
   "cell_type": "code",
   "execution_count": 64,
   "outputs": [
    {
     "data": {
      "text/plain": "True"
     },
     "metadata": {},
     "output_type": "execute_result",
     "execution_count": 64
    }
   ],
   "source": [
    "'bmi' in rc.keys()"
   ],
   "metadata": {
    "collapsed": false,
    "pycharm": {
     "name": "#%%\n",
     "is_executing": false
    }
   }
  },
  {
   "cell_type": "code",
   "execution_count": 4,
   "outputs": [],
   "source": [
    "\n",
    "\n",
    "numeric_list=['weight', 'height', 'waist', 'hrs_total', 'bmi']\n",
    "for field in numeric_list:\n",
    "    rc[field] = pd.to_numeric(rc[field])\n",
    "\n",
    "date_list=['clinic_date', 'followup_date','referral_date'  ]\n",
    "for field in date_list:\n",
    "    rc[field] = pd.to_datetime(rc[field], format='%Y-%m-%d')\n",
    "\n",
    "\n",
    "    rc['arm'] = rc.redcap_event_name.replace(to_replace={'Initial visit (Arm 1: Chest pain)': 'Chest pain',\n",
    "                               'Initial visit (Arm 2: Heart failure)': 'Heart failure',\n",
    "                               'Initial visit (Arm 3: Pre-operative assessment)': 'PreOp',\n",
    "                               'Initial visit (Arm 4: Arrhythmia)': 'Arrhythmia',\n",
    "                               'Initial visit (Arm 5: Other)': 'Other' }, value=None)\n",
    "\n",
    "    rc['arm'] = rc.arm.replace(to_replace={'Follow.*Arm 1.*': 'F_Chest pain',\n",
    "                               'Follow.*Arm 2.*': 'F_HF',\n",
    "                               'Follow.*Arm 3.*': 'F_PreOp',\n",
    "                               'Follow.*Arm 4.*': 'F_Arrhythmia',\n",
    "                               'Follow.*Arm 5.*': 'F_Other' }, regex=True)\n",
    "rc_new = rc.loc[(rc['arm'] == 'Chest pain') | (rc['arm'] == 'Heart failure') | (rc['arm'] == 'PreOp') |\n",
    "                (rc['arm'] == 'Arrhythmia') | (rc['arm'] == 'Other') ]\n",
    "rc['weight'].describe()\n",
    "rc_new['weight'].describe()\n",
    "\n",
    "pd.DataFrame.to_csv(rc_new,'racc_new2.csv')\n",
    "pd.DataFrame.to_excel(rc_new,'racc_new2.xls')"
   ],
   "metadata": {
    "collapsed": false,
    "pycharm": {
     "name": "#%%\n",
     "is_executing": false
    }
   }
  },
  {
   "cell_type": "code",
   "execution_count": 11,
   "outputs": [
    {
     "name": "stdout",
     "text": [
      "Warning: Cannot change to a different GUI toolkit: notebook. Using qt instead.\n"
     ],
     "output_type": "stream"
    },
    {
     "data": {
      "text/plain": "<matplotlib.axes._subplots.AxesSubplot at 0x7fd2b0ab9d30>"
     },
     "metadata": {},
     "output_type": "execute_result",
     "execution_count": 11
    }
   ],
   "source": [
    "%matplotlib notebook\n",
    "import matplotlib.pyplot as plt\n",
    "plt.figure()\n",
    "rc_new.plot.scatter(y='weight', x='height', c = 'waist', colormap='seismic')"
   ],
   "metadata": {
    "collapsed": false,
    "pycharm": {
     "name": "#%%\n",
     "is_executing": false
    }
   }
  },
  {
   "cell_type": "code",
   "execution_count": 5,
   "outputs": [],
   "source": [
    "import plotly.express as px\n",
    "\n",
    "# Use directly Columns as argument. You can use tab completion for this!\n",
    "fig = px.scatter(rc_new, x=rc_new.weight, y=rc_new.height, color=rc_new.waist, hover_name=rc_new.record_id, \n",
    "                 color_continuous_scale=px.colors.sequential.Hot)\n",
    "fig.write_html('RACC_weight_height.html', auto_open=True)"
   ],
   "metadata": {
    "collapsed": false,
    "pycharm": {
     "name": "#%%\n",
     "is_executing": false
    }
   }
  },
  {
   "cell_type": "code",
   "execution_count": 36,
   "outputs": [],
   "source": [
    "import plotly.express as px\n",
    "\n",
    "# Use directly Columns as argument. You can use tab completion for this!\n",
    "fig = px.scatter(rc_new, x=rc_new.waist, y=rc_new.height, color=rc_new.weight, hover_name=rc_new.record_id, \n",
    "                 color_continuous_scale=px.colors.sequential.Hot)\n",
    "fig.write_html('RACC_height_waist.html', auto_open=True)"
   ],
   "metadata": {
    "collapsed": false,
    "pycharm": {
     "name": "#%%\n",
     "is_executing": false
    }
   }
  },
  {
   "cell_type": "code",
   "execution_count": 76,
   "outputs": [],
   "source": [
    "import plotly.express as px\n",
    "import statsmodels\n",
    "df = px.data.iris()\n",
    "# Use directly Columns as argument. You can use tab completion for this!\n",
    "fig = px.scatter(rc_new, x=rc_new.bmi, trendline='lowess', opacity=0.7, y=rc_new.waist, color=rc_new.diabetes_type, hover_name=rc_new.record_id, \n",
    "                 color_continuous_scale=px.colors.sequential.Hot, marginal_y=\"violin\", marginal_x=\"violin\",\n",
    "                 trendline_color_override='black')\n",
    "fig.write_html('RACC_height_weight_sex.html', auto_open=True)"
   ],
   "metadata": {
    "collapsed": false,
    "pycharm": {
     "name": "#%%\n",
     "is_executing": false
    }
   }
  },
  {
   "cell_type": "code",
   "execution_count": 56,
   "outputs": [],
   "source": [
    "import plotly.express as px\n",
    "df = px.data.iris()\n",
    "# Use directly Columns as argument. You can use tab completion for this!\n",
    "fig = px.scatter(rc_new, x=rc_new.waist, y=rc_new.height, color=rc_new.sex, hover_name=rc_new.record_id, \n",
    "                 color_continuous_scale=px.colors.sequential.Hot, marginal_y=\"violin\", marginal_x=\"violin\")\n",
    "fig.write_html('RACC_height_waist_sex.html', auto_open=True)"
   ],
   "metadata": {
    "collapsed": false,
    "pycharm": {
     "name": "#%%\n",
     "is_executing": false
    }
   }
  },
  {
   "cell_type": "code",
   "execution_count": 86,
   "outputs": [],
   "source": [
    "fig = px.violin(rc_new, x='sex', y=rc_new.bmi,  box=True, points=\"all\" )\n",
    "fig.write_html('RACC_height_waist_sex.html', auto_open=True)"
   ],
   "metadata": {
    "collapsed": false,
    "pycharm": {
     "name": "#%%\n",
     "is_executing": false
    }
   }
  },
  {
   "cell_type": "code",
   "execution_count": 26,
   "outputs": [],
   "source": [
    "import plotly.graph_objects as go\n",
    "fig = go.Figure(data=go.Bar(y=[2, 3, 1]))\n",
    "fig.write_html('first_figure.html', auto_open=True)"
   ],
   "metadata": {
    "collapsed": false,
    "pycharm": {
     "name": "#%%\n",
     "is_executing": false
    }
   }
  },
  {
   "cell_type": "code",
   "execution_count": null,
   "outputs": [],
   "source": [
    "import dash\n",
    "import dash_core_components as dcc\n",
    "import dash_html_components as html\n",
    "\n",
    "external_stylesheets = ['https://codepen.io/chriddyp/pen/bWLwgP.css']\n",
    "\n",
    "app = dash.Dash(__name__, external_stylesheets=external_stylesheets)\n",
    "\n",
    "app.layout = html.Div(children=[\n",
    "    html.H1(children='Hello Dash'),\n",
    "\n",
    "    html.Div(children='''\n",
    "        Dash: A web application framework for Python.\n",
    "    '''),\n",
    "\n",
    "    dcc.Graph(\n",
    "        id='example-graph',\n",
    "        figure={\n",
    "            'data': [\n",
    "                {'x': [1, 2, 3], 'y': [4, 1, 2], 'type': 'bar', 'name': 'SF'},\n",
    "                {'x': [1, 2, 3], 'y': [2, 4, 5], 'type': 'bar', 'name': u'Montréal'},\n",
    "            ],\n",
    "            'layout': {\n",
    "                'title': 'Dash Data Visualization'\n",
    "            }\n",
    "        }\n",
    "    )\n",
    "])\n",
    "\n",
    "if __name__ == '__main__':\n",
    "    app.run_server(debug=True)\n",
    "    "
   ],
   "metadata": {
    "collapsed": false,
    "pycharm": {
     "name": "#%%\n"
    }
   }
  },
  {
   "cell_type": "code",
   "execution_count": 3,
   "metadata": {
    "collapsed": true,
    "pycharm": {
     "is_executing": false
    }
   },
   "outputs": [
    {
     "data": {
      "text/plain": "<Figure size 432x288 with 1 Axes>",
      "image/png": "[encoded data removed]"
     },
     "metadata": {
      "needs_background": "light"
     },
     "output_type": "display_data"
    }
   ],
   "source": [
    "from mpl_toolkits import mplot3d\n",
    "\n",
    "import numpy as np\n",
    "\n",
    "import matplotlib.pyplot as plt\n",
    "\n",
    "fig = plt.figure()\n",
    "ax = plt.axes(projection=\"3d\")\n",
    "\n",
    "plt.show()"
   ]
  },
  {
   "cell_type": "code",
   "execution_count": 4,
   "outputs": [
    {
     "data": {
      "text/plain": "<Figure size 432x288 with 1 Axes>",
      "image/png": "[encoded data removed]"
     },
     "metadata": {
      "needs_background": "light"
     },
     "output_type": "display_data"
    }
   ],
   "source": [
    "fig = plt.figure()\n",
    "ax = plt.axes(projection=\"3d\")\n",
    "\n",
    "z_line = np.linspace(0, 15, 1000)\n",
    "x_line = np.cos(z_line)\n",
    "y_line = np.sin(z_line)\n",
    "ax.plot3D(x_line, y_line, z_line, 'gray')\n",
    "\n",
    "z_points = 15 * np.random.random(100)\n",
    "x_points = np.cos(z_points) + 0.1 * np.random.randn(100)\n",
    "y_points = np.sin(z_points) + 0.1 * np.random.randn(100)\n",
    "ax.scatter3D(x_points, y_points, z_points, c=z_points, cmap='hsv');\n",
    "\n",
    "plt.show()"
   ],
   "metadata": {
    "collapsed": false,
    "pycharm": {
     "name": "#%%\n",
     "is_executing": false
    }
   }
  },
  {
   "cell_type": "code",
   "execution_count": 7,
   "outputs": [],
   "source": [
    "a=np.array([1,2,3])"
   ],
   "metadata": {
    "collapsed": false,
    "pycharm": {
     "name": "#%%\n",
     "is_executing": false
    }
   }
  },
  {
   "cell_type": "code",
   "execution_count": 33,
   "outputs": [],
   "source": [
    "from stl import mesh\n",
    "import stl\n",
    "la_mesh = mesh.Mesh.from_file('Control1.stl')\n",
    "points = la_mesh.points\n",
    "la_mesh.save('la.stl', mode=stl.Mode.ASCII)"
   ],
   "metadata": {
    "collapsed": false,
    "pycharm": {
     "name": "#%% Convert binary stl to ASCII\n",
     "is_executing": false
    }
   }
  },
  {
   "cell_type": "code",
   "execution_count": 21,
   "outputs": [],
   "source": [],
   "metadata": {
    "collapsed": false,
    "pycharm": {
     "name": "#%%\n",
     "is_executing": false
    }
   }
  },
  {
   "cell_type": "code",
   "execution_count": 2,
   "outputs": [
    {
     "name": "stdout",
     "text": [
      "volume = 34.220367969869585cm^2 area = 55.82398116967232ml sphericity index =0.9131029986075248\n"
     ],
     "output_type": "stream"
    }
   ],
   "source": [
    "from scipy.spatial import ConvexHull\n",
    "import numpy\n",
    "import scipy.spatial as sp\n",
    "f= open('la.stl', 'r') #Note that the stl file needs to be saved as ASCCII not binary\n",
    "\n",
    "\n",
    "#extract the list of 3d vertices from the stl file (they are on the lines starting with 'vertex')\n",
    "vertex_point_list =[]\n",
    "for line in f.readlines():\n",
    "    line = line.lstrip().rstrip()\n",
    "    if line.startswith('vertex'):\n",
    "        vertex_point_list.append(line[7:].split(' '))\n",
    "f.close()\n",
    "\n",
    "hull = ConvexHull(vertex_point_list)\n",
    "sphericity_index = numpy.pi**(1/3)*((6*hull.volume)**(2/3))/hull.area\n",
    "print('volume = %scm^2 area = %sml sphericity index =%s'%(hull.volume/1000,hull.area/100, sphericity_index) )\n",
    "\n"
   ],
   "metadata": {
    "collapsed": false,
    "pycharm": {
     "name": "#%%\n",
     "is_executing": false
    }
   }
  },
  {
   "cell_type": "code",
   "execution_count": 48,
   "outputs": [
    {
     "name": "stdout",
     "text": [
      "14.598209658136096\n20.000856734975002\n2.022827015023143\n18.077306730049916\n21.64120547082996\n29.478999749125602\n34.02950496021674\n24.437936829829606\n162.49853840552487\n30.06819678794822\n35.51806995483188\n5.225957344406678\n4.814619663118114\n5.1355532751017865\n5.1574974484993295\n22.964252009552336\n16.970644477393545\n6.108382384649908\n6.207051397487255\n5.436270045864541\n5.772643223642352\n6.086118518894707\n5.869454514454184\n6.475471725991383\n5.377905744669315\n5.455121075692849\n5.650619744172741\n29.619704729986562\n32.99606692427072\n5.776968172097351\n5.324978100764291\n6.809190507440486\n3.8858807029778073\n1.4167526022788062\n8.127583741182516\n5.59066918894833\n18.33356912583161\n6.956451027701755\n5.670917993709692\n16.85473494255136\n6.29362185447877\n6.426309576608443\n4.689476411428252\n6.295945080170413\n6.124888599177472\n4.886039587752299\n5.392801311935516\n19.375046058891535\n15.675277269007298\n22.809131166990515\n21.246449855065197\n6.184559702327884\n5.8927422384752886\n5.664794406922272\n5.841683409110349\n5.921319969541827\n5.8135394951067445\n5.691083356520904\n5.488550172852461\n7.053081366945916\n6.120033946460687\n5.87141859766874\n5.940765922213759\n5.683021012699051\n5.426980102660607\n5.331033473772081\n5.878954339686133\n5.980514099284993\n5.203571263669392\n6.283975203034565\n6.140468670769817\n6.2407564500975745\n5.263303080215316\n5.11261703219887\n6.17149896540346\n5.843998493915185\n5.72878323054125\n5.979384667842222\n6.125954724631145\n5.824332289485657\n4.867001658293938\n6.29814087966045\n5.986681214874996\n6.223137164536574\n6.11764526062037\n5.883843061684902\n33.938047623618516\n28.774483770107558\n24.31713319737557\n12.527792327514723\n6.37598265907893\n1.0605075344730535\n0.27037960498383096\n4.772124746532579\n5.569305054955081\n2.891880320955721\n14.51919762294364\n11.382387640309078\n23.476151659710233\n18.17344940583186\n6.132125237886069\n6.642197333257752\n6.741709299190155\n13.262960072423208\n24.517785890439583\n6.781488844858194\n19.006351456316203\n18.734735150209335\n6.857395373997137\n11.253064178963541\n12.99337146586025\n0.6078375064676547\n1.5951707855849866\n2.895677031663707\n2.9161483773725707\n5.750876731315936\n7.304305199256374\n11.797247286380056\n16.759077514101943\n5.625295189546897\n5.632527066571683\n6.1217646328633\n6.009666704724104\n5.401410013664817\n5.891849888846246\n6.450184896852892\n6.416349492042222\n4.265889734797815\n2.924679731365908\n3.7903339864883745\n6.58116715484533\n2.893282100333623\n3.95907561964709\n4.1875445594773275\n4.495177857314478\n5.015528775325385\n5.632736266073268\n17.453254794965794\n18.66453249040856\n20.656881370389915\n18.94196864008632\n19.0994888443077\n19.45888797073796\n4.248593320096535\n4.072941902617183\n0.2562970550492905\n14.249732810208283\n13.3877394939498\n8.776440709830553\n6.10857382637635\n27.837936476413926\n26.662865701755333\n28.77925746810467\n6.006689663785512\n15.742943487504661\n7.032434150704005\n14.831543581803238\n4.7530282552338825\n5.445252310350906\n5.287437642956599\n5.076450804764816\n6.176325431878733\n6.4939893022736435\n6.360992901640595\n2.796177007554534\n5.387153783988259\n6.994372069156296\n6.984988729733529\n6.849743710115933\n6.8532526305598855\n7.093545787222126\n6.855363052329866\n6.783694993364518\n6.5676536335334585\n6.688233559842267\n6.365998100047622\n6.390348849911323\n5.130120688214048\n18.274507266568538\n11.456704104337758\n0.9349403071299434\n0.34013276334536124\n5.40365126970293\n5.283438446697382\n18.75524274315097\n23.24260634334335\n18.661260850127398\n22.095777926221434\n5.048328782109529\n20.876386086318398\n5.646971314605461\n5.028283893717084\n5.232853283493116\n5.213007674953301\n5.320789397387081\n5.349509202720212\n5.14784474688315\n5.313577297387297\n4.956074006086019\n4.98095007996373\n4.371620921569054\n5.307547836131754\n2.804684556684517\n5.724576819565823\n5.672748018409473\n5.325799312104353\n5.6400650330401945\n5.281151667087084\n5.394897188444357\n5.979147051854316\n5.8624812003607545\n5.485166219520328\n6.140332461030308\n5.7574804739855105\n4.724674541005534\n4.827269316579116\n4.856257864178118\n5.56098102612485\n3.9322819321656026\n5.224113855242093\n5.671648531034462\n5.032504864554005\n3.8064478999102063\n5.50193331449029\n5.21659774059665\n3.9569292407832894\n5.654564104229216\n4.6162223661442034\n4.250485287830305\n5.626826575256875\n6.146205474055305\n6.585829943782671\n6.56646867226789\n5.628444899578315\n6.316216270010476\n6.044870856725254\n11.243775144527682\n12.052244483154784\n6.136296960362566\n6.029012876174784\n6.198333850462806\n6.428172528960035\n6.574441975376773\n6.510878651822849\n6.67208277109046\n6.611599539052504\n5.07122234984195\n4.918508181980638\n4.847692182686621\n14.236643151802754\n13.221538121978911\n5.436206497148614\n11.68338624699183\n5.166719521314996\n5.581379469235888\n11.292597421115598\n10.924277474644704\n5.2898121105710745\n5.36024347833521\n5.20987563412692\n5.288646234810155\n10.057393218943604\n12.962633330483413\n21.835664338351844\n11.65139958669719\n5.918597490005436\n6.136395143458008\n6.166507111428934\n6.169880549471395\n5.72082928265542\n5.692139965448924\n5.862869408475461\n5.9472266048008935\n5.4940265007264815\n5.614813993645404\n19.063062466533477\n19.874695820202653\n21.69160643696744\n18.06673729930204\n16.418998337900348\n4.509020727439117\n5.405366309853044\n5.530560975881592\n5.392678068904947\n5.454220864758682\n6.074337781316283\n5.778842878344497\n5.6257823616595735\n5.259612721431085\n5.026546836535014\n5.173618271078807\n4.6192242911278765\n3.0255196909942685\n4.0038470527737475\n2.857355758891666\n4.94555079370505\n3.8146394485313997\n4.0703880431145105\n4.620541191496371\n4.584305050818789\n6.768061136949245\n6.3615365963567605\n6.165781925633275\n7.011861245902799\n7.100596951017328\n6.837190074327538\n7.2372601054068415\n6.322988818849952\n6.490676433481848\n6.765865402483677\n5.21550623186572\n5.194288418985258\n5.428401003181948\n4.763791480277871\n4.766928800148814\n5.079083571065454\n5.295694834185833\n4.410279630942643\n5.131920027685556\n5.198742952805859\n5.324099093723117\n5.240991149964139\n5.784120067781141\n5.204769675092654\n5.3875562979056575\n5.588997234361758\n5.014972413647088\n4.145924267617019\n4.69994336322689\n5.0885508628182325\n5.117043666387327\n5.020347668884322\n3.81720424016076\n4.723913680380889\n4.2529028487819\n4.6543488221061455\n5.103030587270736\n4.9387738614284356\n5.216246545015311\n4.7565244876808\n5.08495278053975\n4.9454173952934\n3.8452241400087415\n5.256408883879635\n3.9973043260852132\n6.541507523905979\n6.6933965147136885\n6.374337134886024\n6.134185855769148\n6.386523221727554\n6.488870957192389\n4.816020847569134\n5.143942729645641\n5.138899379069587\n5.112645689063436\n5.067544653482045\n5.81423638700805\n6.154603031308072\n6.039242010948134\n5.552899360857693\n5.830143494427782\n5.419201817154503\n5.118938549092894\n5.262794819511276\n5.466863280796345\n5.311190627272917\n22.740519935519234\n21.986894043913836\n14.373383588639884\n12.178905458582676\n30.599685266355543\n23.777622513230387\n5.288638516057973\n4.4463521492388764\n4.100191773610866\n4.303422865502301\n4.699605241939333\n4.746778593438791\n4.329271502143798\n4.911291283615239\n4.942578905514235\n4.82627712025318\n4.349533157175034\n18.183504565729326\n21.227832114679877\n21.66794914710161\n4.799487968592755\n4.4950366946862825\n4.555914172770299\n4.850964335061336\n4.677670927738647\n5.061907135202286\n22.7662658911725\n20.449216762771552\n23.91429619649295\n24.79143223854575\n20.303751741857518\n17.6937545919606\n5.702131972036851\n5.503634622819892\n4.873719890824095\n4.581763176014862\n4.996831567199314\n5.106089182542896\n5.298349640130744\n5.257624801900098\n5.001435766703709\n5.100345334345237\n4.962963202633127\n4.922461440739043\n5.901963591067886\n5.601016099751161\n5.329038075671474\n5.704672411958948\n5.8709833117218855\n6.205307118662947\n4.91438621629556\n3.9815941811690343\n5.030260351363799\n4.38877633531171\n4.096261200263786\n4.549161021488471\n4.181535153546212\n4.6963153242772675\n4.821673406711417\n4.727257112337282\n6.274961012041363\n6.397977952265016\n6.515257437763726\n7.128657423990232\n7.027720101955721\n6.8274690481312685\n7.0824224800552935\n6.037822333319728\n5.895581336821677\n5.700026094807808\n5.380308739765367\n5.3270314595966415\n5.49439682327613\n5.15420124042754\n4.723609532537041\n5.17903354595948\n4.881385416773079\n4.877968820351199\n4.743845159985597\n5.567585094102583\n5.222132433546398\n5.093507639538194\n4.999767634766094\n5.428048617723382\n5.540493459398173\n5.226819701621247\n5.103915737389948\n5.21214855771005\n5.120354835114896\n4.917574173545976\n4.66936047530198\n4.458514731310563\n5.035173794283601\n4.788136834245128\n5.107875557538984\n4.363331803262862\n4.5273700427557655\n4.034587332784822\n4.391820507514361\n4.005921392060114\n2.7618114110613052\n3.703169344017268\n3.9801434189501688\n2.7508180928805763\n3.643988403058931\n6.292225633675122\n5.87264490708717\n6.781298630929545\n6.64901814053777\n5.270612015570057\n5.471182844376007\n6.109266711278004\n6.30892589152377\n6.460854809088794\n5.718295272042314\n19.406909431484173\n18.01683168055412\n24.77924004778285\n6.4960183924606145\n6.3653284430218555\n3.2643420265904664\n3.178150329027231\n5.198983092419252\n5.444297458830444\n5.519446952152085\n6.105478700218848\n5.322726762659975\n5.6038289923083155\n5.841683925379733\n5.926497306160846\n5.698191791663703\n4.13585814942304\n4.561634222491515\n4.820720476989383\n5.166693593398762\n5.148182322064417\n4.759324128576822\n5.174143879773667\n5.267391628099425\n11.921626499321459\n12.693796745143464\n12.71933328043419\n5.5976362562050594\n13.193940179348395\n4.552016592668164\n4.864530957555083\n4.817639513395789\n5.098313290963329\n4.794639412029126\n4.861960154046051\n5.633505064748099\n5.402124160257026\n5.3395405705984675\n4.952818040600375\n5.345184226325535\n5.115118050455587\n5.132676823318788\n6.70218590789497\n6.590784744284287\n6.805236034898259\n6.629426851900691\n5.972506246087173\n5.812125643105107\n5.631993272808925\n5.167605936037392\n5.520980234075272\n5.416153265858198\n6.085717724108179\n6.000439926346487\n5.763799104236707\n5.7861930660738725\n5.531195570512299\n4.4685558104143235\n2.8686010378890563\n3.951846243478327\n4.3846573446014485\n2.822346551120087\n3.880483749778387\n5.014603732685835\n5.082297987594508\n4.970282571867443\n5.118501455276942\n4.9699104948387385\n5.127185483647664\n5.108066507857416\n5.059471825613084\n5.117973266985296\n5.198385244466998\n5.147749910345873\n5.090428897445742\n5.206866395088117\n18.842605349800593\n4.923158844442524\n19.72522396444154\n20.22702145272793\n5.080403216301497\n17.25530541024351\n19.46630312564142\n16.35366241524192\n24.240777756611095\n23.28076234917151\n5.533158120335912\n5.387647936690416\n5.049351767612728\n5.311507712485008\n4.7671216721938565\n26.21405024863428\n4.963759990614035\n4.829604453725098\n3.1381797277327714\n4.543052358239375\n4.724892102501773\n4.5394831549887185\n4.2549232550331\n3.2668376772055887\n3.232808369968652\n4.2167123394301465\n4.422408746591404\n16.652451637069817\n5.398518943461112\n5.072204354200333\n5.341825507503803\n5.402552200755398\n5.67096115185205\n5.526321338664029\n5.628763365810637\n5.690715941352961\n3.2461835144126168\n3.054510525689472\n3.050226804780641\n5.359867444818593\n5.005965176081789\n5.215891425550218\n5.233866364410363\n6.500098414691468\n6.277767444310568\n6.13392076760489\n6.4077534704180295\n6.445445328349412\n6.609783618753711\n6.293682024377994\n6.552849119742403\n6.302676289704891\n6.312160089194968\n5.946631449438395\n5.611968887505984\n6.040860777937009\n5.845888475765111\n6.334112316106589\n5.929462837001742\n4.965107780000151\n4.971063409722923\n4.89522627263304\n4.6183899432628905\n4.797635304673133\n4.132904553196555\n4.571023182107186\n4.08385421250096\n4.519744927690722\n4.744269459162094\n5.125489069578051\n5.25552403627885\n5.105104252057568\n5.149855439948842\n5.080398545992565\n5.180429867438374\n16.22378775506753\n19.305144212616405\n19.119613747909987\n5.01579093578479\n4.775498148120346\n5.335426328781621\n3.787810449714733\n3.638519622969065\n3.6549021441076968\n4.714432055667938\n4.856229816637684\n30.546482833383447\n5.046672156180514\n28.967064517291114\n28.280161361749293\n6.4573139960914\n6.461746704825032\n6.34092520394759\n5.4194199452648855\n5.243634382478621\n5.135995817774999\n5.305650375894589\n5.56274411412539\n5.713376694273148\n6.49379713107769\n6.317526442725194\n5.168647359309435\n17.512778171419846\n19.482755149051417\n13.147771779697981\n4.601905718942638\n4.637706758330335\n4.581171322668694\n4.476570559936581\n5.523036940659039\n5.737330798713408\n5.5590903762772905\n5.590976983449535\n5.644304846685387\n5.394016139408881\n4.7769681445363545\n4.865270711875594\n4.435137170058283\n3.267259672134532\n4.361623947741325\n3.239151447679124\n5.3160015911896386\n4.555687111798852\n5.198964905784838\n4.386978213901176\n4.704001295546232\n5.445443296735089\n4.573801589467204\n4.826016044764271\n6.067798912774653\n6.1044008836515955\n5.299570674235272\n5.692021907907166\n3.6957356710812417\n5.578300966819679\n5.153198652432619\n3.7883780951587926\n6.133857932812757\n5.9840809571457365\n6.110666479135299\n6.34759943954195\n5.846464538548639\n5.934456666189675\n6.1390401422610275\n6.1422147638297195\n5.608779055950684\n6.209515465213852\n5.708371000964213\n5.793460476240666\n4.458873252775325\n4.540309818309209\n4.63872307877671\n4.629199078014356\n5.107973195590126\n5.409580854410704\n5.693746145610184\n5.706137076390638\n5.075537055163922\n5.371385682552811\n6.02083398969048\n5.4788898640102435\n6.103392900177564\n6.079635750583851\n5.11745172092254\n4.835418178514483\n5.199463651481638\n5.311732944178827\n4.7953744553142075\n4.827035733467634\n"
     ],
     "output_type": "stream"
    }
   ],
   "source": [
    "#determinant of matrix a\n",
    "def det(a):\n",
    "    return a[0][0]*a[1][1]*a[2][2] + a[0][1]*a[1][2]*a[2][0] + a[0][2]*a[1][0]*a[2][1] - a[0][2]*a[1][1]*a[2][0] - a[0][1]*a[1][0]*a[2][2] - a[0][0]*a[1][2]*a[2][1]\n",
    "\n",
    "#unit normal vector of plane defined by points a, b, and c\n",
    "def unit_normal(a, b, c):\n",
    "    x = det([[1,a[1],a[2]],\n",
    "             [1,b[1],b[2]],\n",
    "             [1,c[1],c[2]]])\n",
    "    y = det([[a[0],1,a[2]],\n",
    "             [b[0],1,b[2]],\n",
    "             [c[0],1,c[2]]])\n",
    "    z = det([[a[0],a[1],1],\n",
    "             [b[0],b[1],1],\n",
    "             [c[0],c[1],1]])\n",
    "    magnitude = (x**2 + y**2 + z**2)**.5\n",
    "    return (x/magnitude, y/magnitude, z/magnitude)\n",
    "\n",
    "#dot product of vectors a and b\n",
    "def dot(a, b):\n",
    "    return a[0]*b[0] + a[1]*b[1] + a[2]*b[2]\n",
    "\n",
    "#cross product of vectors a and b\n",
    "def cross(a, b):\n",
    "    x = a[1] * b[2] - a[2] * b[1]\n",
    "    y = a[2] * b[0] - a[0] * b[2]\n",
    "    z = a[0] * b[1] - a[1] * b[0]\n",
    "    return (x, y, z)\n",
    "\n",
    "#area of polygon poly\n",
    "def area(poly):\n",
    "    if len(poly) < 3: # not a plane - no area\n",
    "        return 0\n",
    "\n",
    "    total = [0, 0, 0]\n",
    "    for i in range(len(poly)):\n",
    "        vi1 = poly[i]\n",
    "        if i is len(poly)-1:\n",
    "            vi2 = poly[0]\n",
    "        else:\n",
    "            vi2 = poly[i+1]\n",
    "        prod = cross(vi1, vi2)\n",
    "        total[0] += prod[0]\n",
    "        total[1] += prod[1]\n",
    "        total[2] += prod[2]\n",
    "    result = dot(total, unit_normal(poly[0], poly[1], poly[2]))\n",
    "    return abs(result/2)\n",
    "\n",
    "for item in hull.simplices:\n",
    "    points = [hull.points[item[0]],hull.points[item[1]],hull.points[item[2]] ]\n",
    "    #print('\\nPoints= ',points[0])\n",
    "    tri_area = area([points[0], points[1], points[2]])\n",
    "    print(tri_area)"
   ],
   "metadata": {
    "collapsed": false,
    "pycharm": {
     "name": "#%%\n",
     "is_executing": false
    }
   }
  },
  {
   "cell_type": "code",
   "execution_count": 4,
   "outputs": [
    {
     "name": "stdout",
     "text": [
      "Using matplotlib backend: MacOSX\n"
     ],
     "output_type": "stream"
    },
    {
     "data": {
      "text/plain": "<mpl_toolkits.mplot3d.art3d.Path3DCollection at 0x7ffc4840a438>"
     },
     "metadata": {},
     "output_type": "execute_result",
     "execution_count": 4
    }
   ],
   "source": [
    "from mpl_toolkits import mplot3d\n",
    "%matplotlib\n",
    "    \n",
    "import numpy as np\n",
    "import matplotlib.pyplot as plt\n",
    "fig = plt.figure()\n",
    "ax = plt.axes(projection='3d')\n",
    "xs=[item[0] for item in hull.points]\n",
    "ys=[item[1] for item in hull.points]\n",
    "zs=[item[2] for item in hull.points]\n",
    "ax.scatter(xs,ys,zs, 'gray')\n",
    "\n"
   ],
   "metadata": {
    "collapsed": false,
    "pycharm": {
     "name": "#%%\n",
     "is_executing": false
    }
   }
  },
  {
   "cell_type": "code",
   "execution_count": 1,
   "outputs": [
    {
     "traceback": [
      "\u001b[0;31m---------------------------------------------------------------------------\u001b[0m",
      "\u001b[0;31mNameError\u001b[0m                                 Traceback (most recent call last)",
      "\u001b[0;32m<ipython-input-1-eeae60ff7fd7>\u001b[0m in \u001b[0;36m<module>\u001b[0;34m\u001b[0m\n\u001b[1;32m      2\u001b[0m \u001b[0;32mfrom\u001b[0m \u001b[0mmpl_toolkits\u001b[0m\u001b[0;34m.\u001b[0m\u001b[0mmplot3d\u001b[0m \u001b[0;32mimport\u001b[0m \u001b[0mAxes3D\u001b[0m\u001b[0;34m\u001b[0m\u001b[0;34m\u001b[0m\u001b[0m\n\u001b[1;32m      3\u001b[0m \u001b[0mfig\u001b[0m\u001b[0;34m,\u001b[0m \u001b[0max\u001b[0m \u001b[0;34m=\u001b[0m \u001b[0msubplots\u001b[0m\u001b[0;34m(\u001b[0m\u001b[0msubplot_kw\u001b[0m \u001b[0;34m=\u001b[0m \u001b[0mdict\u001b[0m\u001b[0;34m(\u001b[0m\u001b[0mprojection\u001b[0m \u001b[0;34m=\u001b[0m \u001b[0;34m'3d'\u001b[0m\u001b[0;34m)\u001b[0m\u001b[0;34m)\u001b[0m\u001b[0;34m\u001b[0m\u001b[0;34m\u001b[0m\u001b[0m\n\u001b[0;32m----> 4\u001b[0;31m \u001b[0max\u001b[0m\u001b[0;34m.\u001b[0m\u001b[0mplot_trisurf\u001b[0m\u001b[0;34m(\u001b[0m\u001b[0;34m*\u001b[0m\u001b[0mhull\u001b[0m\u001b[0;34m.\u001b[0m\u001b[0mpoints\u001b[0m\u001b[0;34m.\u001b[0m\u001b[0mT\u001b[0m\u001b[0;34m,\u001b[0m \u001b[0mtriangles\u001b[0m \u001b[0;34m=\u001b[0m \u001b[0mhull\u001b[0m\u001b[0;34m.\u001b[0m\u001b[0msimplices\u001b[0m\u001b[0;34m.\u001b[0m\u001b[0mT\u001b[0m\u001b[0;34m)\u001b[0m\u001b[0;34m\u001b[0m\u001b[0;34m\u001b[0m\u001b[0m\n\u001b[0m\u001b[1;32m      5\u001b[0m \u001b[0mfig\u001b[0m\u001b[0;34m.\u001b[0m\u001b[0mshow\u001b[0m\u001b[0;34m(\u001b[0m\u001b[0;34m)\u001b[0m\u001b[0;34m\u001b[0m\u001b[0;34m\u001b[0m\u001b[0m\n\u001b[1;32m      6\u001b[0m \u001b[0;34m\u001b[0m\u001b[0m\n",
      "\u001b[0;31mNameError\u001b[0m: name 'hull' is not defined"
     ],
     "ename": "NameError",
     "evalue": "name 'hull' is not defined",
     "output_type": "error"
    },
    {
     "data": {
      "text/plain": "<Figure size 432x288 with 1 Axes>",
      "image/png": "[encoded data removed]"
     },
     "metadata": {
      "needs_background": "light"
     },
     "output_type": "display_data"
    }
   ],
   "source": [
    "from matplotlib.pyplot import subplots\n",
    "from mpl_toolkits.mplot3d import Axes3D\n",
    "fig, ax = subplots(subplot_kw = dict(projection = '3d'))\n",
    "ax.plot_trisurf(*hull.points.T, triangles = hull.simplices.T)\n",
    "fig.show()\n"
   ],
   "metadata": {
    "collapsed": false,
    "pycharm": {
     "name": "#%%\n",
     "is_executing": false
    }
   }
  },
  {
   "cell_type": "code",
   "execution_count": 7,
   "outputs": [],
   "source": [
    "from stl import mesh\n",
    "import math\n",
    "import numpy\n",
    "\n",
    "# Create 3 faces of a cube\n",
    "data = numpy.zeros(6, dtype=mesh.Mesh.dtype)\n",
    "\n",
    "# Top of the cube\n",
    "data['vectors'][0] = numpy.array([[0, 1, 1],\n",
    "                                  [1, 0, 1],\n",
    "                                  [0, 0, 1]])\n",
    "data['vectors'][1] = numpy.array([[1, 0, 1],\n",
    "                                  [0, 1, 1],\n",
    "                                  [1, 1, 1]])\n",
    "# Front face\n",
    "data['vectors'][2] = numpy.array([[1, 0, 0],\n",
    "                                  [1, 0, 1],\n",
    "                                  [1, 1, 0]])\n",
    "data['vectors'][3] = numpy.array([[1, 1, 1],\n",
    "                                  [1, 0, 1],\n",
    "                                  [1, 1, 0]])\n",
    "# Left face\n",
    "data['vectors'][4] = numpy.array([[0, 0, 0],\n",
    "                                  [1, 0, 0],\n",
    "                                  [1, 0, 1]])\n",
    "data['vectors'][5] = numpy.array([[0, 0, 0],\n",
    "                                  [0, 0, 1],\n",
    "                                  [1, 0, 1]])\n",
    "# Since the cube faces are from 0 to 1 we can move it to the middle by\n",
    "# substracting .5\n",
    "data['vectors'] -= .5\n",
    "\n",
    "# Generate 4 different meshes so we can rotate them later\n",
    "meshes = [mesh.Mesh(data.copy()) for _ in range(4)]\n",
    "p1=meshes[0].points"
   ],
   "metadata": {
    "collapsed": false,
    "pycharm": {
     "name": "#%%\n",
     "is_executing": false
    }
   }
  },
  {
   "cell_type": "code",
   "execution_count": 8,
   "outputs": [],
   "source": [
    "import numpy as np\n",
    "points = np.random.rand(30, 2)"
   ],
   "metadata": {
    "collapsed": false,
    "pycharm": {
     "name": "#%%\n",
     "is_executing": false
    }
   }
  }
 ],
 "metadata": {
  "kernelspec": {
   "display_name": "Python 3",
   "language": "python",
   "name": "python3"
  },
  "language_info": {
   "codemirror_mode": {
    "name": "ipython",
    "version": 2
   },
   "file_extension": ".py",
   "mimetype": "text/x-python",
   "name": "python",
   "nbconvert_exporter": "python",
   "pygments_lexer": "ipython2",
   "version": "2.7.6"
  },
  "pycharm": {
   "stem_cell": {
    "cell_type": "raw",
    "source": [
     "\n",
     "\n"
    ],
    "metadata": {
     "collapsed": false
    }
   }
  }
 },
 "nbformat": 4,
 "nbformat_minor": 0
}